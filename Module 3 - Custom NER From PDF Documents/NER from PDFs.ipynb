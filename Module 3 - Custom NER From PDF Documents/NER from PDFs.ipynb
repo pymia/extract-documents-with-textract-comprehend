{
 "cells": [
  {
   "cell_type": "markdown",
   "metadata": {},
   "source": [
    "<h1> <strong>Custom Named Entity Recognition (NER) from Mortgage Documents </strong>"
   ]
  },
  {
   "cell_type": "markdown",
   "metadata": {},
   "source": [
    "A powerful feature in AWS Comprehend is custom NER. This allows us to find certain key values in documents without having to build custom matching scripts or parsing through large quantites of documents. We have multiple options on AWS to build a custom NER model. The first is through flat data txt or csv files with the entity name and value. This method supports <strong>Synchronous and Asynchronous</strong> calls. The other method and the method we will be doing in this module is custom NER from native document types, this method currently only supports ***Asynchronous*** calls. This method becomes especially powerful as it takes into account spatial information in a document to improve inference. \n",
    "- Selected kernal: Python3(Data Science)\n",
    "\n",
    "<h4>What does it look like in an annotation file.</h4>\n",
    "<img src=\"annotation_sample.png\" alt=\"annotation_sample\" width=\"1200\"/>\n",
    "\n",
    "<h4>Please follow the instructions in the lab guide before proceeding</h4> "
   ]
  },
  {
   "cell_type": "code",
   "execution_count": 1,
   "metadata": {},
   "outputs": [],
   "source": [
    "import boto3\n",
    "import json\n",
    "import requests"
   ]
  },
  {
   "cell_type": "code",
   "execution_count": 2,
   "metadata": {},
   "outputs": [
    {
     "name": "stdout",
     "output_type": "stream",
     "text": [
      "The manifest file is updated with the correct bucket\n"
     ]
    }
   ],
   "source": [
    "#updating the manifest file with the s3 bucket you created in the earlier step. \n",
    "\n",
    "replace_with_input_source = \"s3://aim316-bucket/source/\"\n",
    "input_source = \"s3://aim316-bucket/source/\" #replace \"aim316-bucket\" with your bucket name\n",
    "\n",
    "replace_with_input_annotations = \"s3://aim316-bucket/annotations/\"\n",
    "input_annotations =  \"s3://aim316-bucket/annotations/\" #replace \"aim316-bucket\" with your bucket name\n",
    "\n",
    "with open(\"output.manifest\") as output_file:\n",
    "    data = output_file.read()\n",
    "    data = data.replace(replace_with_input_source, input_source)\n",
    "    data = data.replace(replace_with_input_annotations, input_annotations)\n",
    "    with open(\"output.manifest\", \"w\") as parsed_output_file:\n",
    "        parsed_output_file.write(data)\n",
    "\n",
    "print(\"The manifest file is updated with the correct bucket\")"
   ]
  },
  {
   "cell_type": "markdown",
   "metadata": {},
   "source": [
    "<h4>Open the manifest and check the file is showing the correct path of your source and annotation file in S3.</h4>\n",
    "<img src=\"manifest_sample.png\" alt=\"manifest_sample\" width=\"1000\"/>"
   ]
  },
  {
   "cell_type": "code",
   "execution_count": 3,
   "metadata": {},
   "outputs": [
    {
     "name": "stdout",
     "output_type": "stream",
     "text": [
      "manifest file sucessfully sent\n"
     ]
    }
   ],
   "source": [
    "#We are now going to upload the latest version of our manifest to s3\n",
    "s3 = boto3.resource('s3')\n",
    "s3.meta.client.upload_file(Filename='output.manifest', Bucket='aim316-bucket', Key='output.manifest')\n",
    "print(\"manifest file sucessfully sent\")"
   ]
  },
  {
   "cell_type": "markdown",
   "metadata": {},
   "source": [
    "<h4> Now that we have sucessfully updated our manifest file go back to the lab guide to train your model! </h4> "
   ]
  },
  {
   "cell_type": "markdown",
   "metadata": {},
   "source": [
    "<h4> After training the model, you can create an analytic job with the model.</h4> "
   ]
  },
  {
   "cell_type": "code",
   "execution_count": null,
   "metadata": {},
   "outputs": [],
   "source": []
  }
 ],
 "metadata": {
  "instance_type": "ml.t3.medium",
  "kernelspec": {
   "display_name": "Python 3 (Data Science)",
   "language": "python",
   "name": "python3__SAGEMAKER_INTERNAL__arn:aws:sagemaker:eu-west-1:470317259841:image/datascience-1.0"
  },
  "language_info": {
   "codemirror_mode": {
    "name": "ipython",
    "version": 3
   },
   "file_extension": ".py",
   "mimetype": "text/x-python",
   "name": "python",
   "nbconvert_exporter": "python",
   "pygments_lexer": "ipython3",
   "version": "3.7.10"
  }
 },
 "nbformat": 4,
 "nbformat_minor": 4
}
