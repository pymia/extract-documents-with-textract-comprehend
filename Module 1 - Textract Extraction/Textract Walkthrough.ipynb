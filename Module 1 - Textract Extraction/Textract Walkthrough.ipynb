{
 "cells": [
  {
   "cell_type": "markdown",
   "metadata": {},
   "source": [
    "<h1> <b> Amazon Textract Primitivies and API's</b> </h1>\n",
    "\n",
    "Amazon Textract is a document analysis service that detects and extracts printed text, and handwriting, structured data, such as fields of interest and their values, and tables from images and scans of documents. Amazon Textract's machine learning models have been trained on millions of documents so that virtually any document type you upload is automatically recognized and processed for text extraction. When information is extracted from documents, the service returns a confidence score for each element it identifies so that you can make informed decisions about how you want to use the results. Textract has four API's that we will be focusing on for todays workshop each of them play different role when it comes to processing documents.\n",
    "\n",
    "- Selected kernal: Python3(Data Science)"
   ]
  },
  {
   "cell_type": "markdown",
   "metadata": {},
   "source": [
    "<h3> <strong>For more details about each of these API's along with when to use them refer to the Workshop Guide under Module 1 </strong> </h3>\n",
    "\n",
    "- Python library:\n",
    "    - [amazon-textract-prettyprinter](https://pypi.org/project/amazon-textract-prettyprinter/), provides functions to format the output received from Textract in more easily consumable formats incl. CSV or Markdown.\n",
    "    - [amazon-textract-response-parser](https://pypi.org/project/amazon-textract-response-parser/), easily parser JSON returned by Amazon Textract. Library parses JSON and provides programming language specific constructs to work with different parts of the document. textractor is an example of PoC batch processing tool that takes advantage of Textract response parser library and generate output in multiple formats."
   ]
  },
  {
   "cell_type": "code",
   "execution_count": 1,
   "metadata": {},
   "outputs": [
    {
     "name": "stdout",
     "output_type": "stream",
     "text": [
      "/opt/conda/lib/python3.7/site-packages/secretstorage/dhcrypto.py:16: CryptographyDeprecationWarning: int_from_bytes is deprecated, use int.from_bytes instead\n",
      "  from cryptography.utils import int_from_bytes\n",
      "/opt/conda/lib/python3.7/site-packages/secretstorage/util.py:25: CryptographyDeprecationWarning: int_from_bytes is deprecated, use int.from_bytes instead\n",
      "  from cryptography.utils import int_from_bytes\n",
      "Requirement already satisfied: amazon-textract-prettyprinter in /opt/conda/lib/python3.7/site-packages (0.0.10)\n",
      "Requirement already satisfied: boto3 in /opt/conda/lib/python3.7/site-packages (from amazon-textract-prettyprinter) (1.20.4)\n",
      "Requirement already satisfied: tabulate==0.8.9 in /opt/conda/lib/python3.7/site-packages (from amazon-textract-prettyprinter) (0.8.9)\n",
      "Requirement already satisfied: botocore in /opt/conda/lib/python3.7/site-packages (from amazon-textract-prettyprinter) (1.23.4)\n",
      "Requirement already satisfied: amazon-textract-response-parser>=0.1.5 in /opt/conda/lib/python3.7/site-packages (from amazon-textract-prettyprinter) (0.1.24)\n",
      "Requirement already satisfied: marshmallow==3.11.1 in /opt/conda/lib/python3.7/site-packages (from amazon-textract-response-parser>=0.1.5->amazon-textract-prettyprinter) (3.11.1)\n",
      "Requirement already satisfied: s3transfer<0.6.0,>=0.5.0 in /opt/conda/lib/python3.7/site-packages (from boto3->amazon-textract-prettyprinter) (0.5.0)\n",
      "Requirement already satisfied: jmespath<1.0.0,>=0.7.1 in /opt/conda/lib/python3.7/site-packages (from boto3->amazon-textract-prettyprinter) (0.10.0)\n",
      "Requirement already satisfied: python-dateutil<3.0.0,>=2.1 in /opt/conda/lib/python3.7/site-packages (from botocore->amazon-textract-prettyprinter) (2.8.1)\n",
      "Requirement already satisfied: urllib3<1.27,>=1.25.4 in /opt/conda/lib/python3.7/site-packages (from botocore->amazon-textract-prettyprinter) (1.26.7)\n",
      "Requirement already satisfied: six>=1.5 in /opt/conda/lib/python3.7/site-packages (from python-dateutil<3.0.0,>=2.1->botocore->amazon-textract-prettyprinter) (1.14.0)\n",
      "\u001b[33mWARNING: Running pip as the 'root' user can result in broken permissions and conflicting behaviour with the system package manager. It is recommended to use a virtual environment instead: https://pip.pypa.io/warnings/venv\u001b[0m\n",
      "/opt/conda/lib/python3.7/site-packages/secretstorage/dhcrypto.py:16: CryptographyDeprecationWarning: int_from_bytes is deprecated, use int.from_bytes instead\n",
      "  from cryptography.utils import int_from_bytes\n",
      "/opt/conda/lib/python3.7/site-packages/secretstorage/util.py:25: CryptographyDeprecationWarning: int_from_bytes is deprecated, use int.from_bytes instead\n",
      "  from cryptography.utils import int_from_bytes\n",
      "Requirement already satisfied: amazon-textract-response-parser in /opt/conda/lib/python3.7/site-packages (0.1.24)\n",
      "Requirement already satisfied: boto3 in /opt/conda/lib/python3.7/site-packages (from amazon-textract-response-parser) (1.20.4)\n",
      "Requirement already satisfied: marshmallow==3.11.1 in /opt/conda/lib/python3.7/site-packages (from amazon-textract-response-parser) (3.11.1)\n",
      "Requirement already satisfied: jmespath<1.0.0,>=0.7.1 in /opt/conda/lib/python3.7/site-packages (from boto3->amazon-textract-response-parser) (0.10.0)\n",
      "Requirement already satisfied: botocore<1.24.0,>=1.23.4 in /opt/conda/lib/python3.7/site-packages (from boto3->amazon-textract-response-parser) (1.23.4)\n",
      "Requirement already satisfied: s3transfer<0.6.0,>=0.5.0 in /opt/conda/lib/python3.7/site-packages (from boto3->amazon-textract-response-parser) (0.5.0)\n",
      "Requirement already satisfied: python-dateutil<3.0.0,>=2.1 in /opt/conda/lib/python3.7/site-packages (from botocore<1.24.0,>=1.23.4->boto3->amazon-textract-response-parser) (2.8.1)\n",
      "Requirement already satisfied: urllib3<1.27,>=1.25.4 in /opt/conda/lib/python3.7/site-packages (from botocore<1.24.0,>=1.23.4->boto3->amazon-textract-response-parser) (1.26.7)\n",
      "Requirement already satisfied: six>=1.5 in /opt/conda/lib/python3.7/site-packages (from python-dateutil<3.0.0,>=2.1->botocore<1.24.0,>=1.23.4->boto3->amazon-textract-response-parser) (1.14.0)\n",
      "\u001b[33mWARNING: Running pip as the 'root' user can result in broken permissions and conflicting behaviour with the system package manager. It is recommended to use a virtual environment instead: https://pip.pypa.io/warnings/venv\u001b[0m\n"
     ]
    }
   ],
   "source": [
    "import boto3\n",
    "!python -m pip install amazon-textract-prettyprinter\n",
    "!python -m pip install amazon-textract-response-parser\n",
    "import pprint\n",
    "import os\n",
    "import textractprettyprinter\n",
    "from trp import Document\n",
    "from textractprettyprinter.t_pretty_print import Textract_Pretty_Print, get_lines_string\n",
    "from textractprettyprinter.t_pretty_print import Pretty_Print_Table_Format, Textract_Pretty_Print, get_string"
   ]
  },
  {
   "cell_type": "markdown",
   "metadata": {},
   "source": [
    "<h1> Detect Text with Amazon Textract - Local Document </h1>\n",
    "\n",
    "Amazon Textract performs OCR using the Detect Document Text API. This API will provide the user with an extraction of all the raw text on the input document locally. To know all the API of Amazon Textract, read the [Amazon Textract API Operations](https://docs.aws.amazon.com/textract/latest/dg/API_Operations.html).\n",
    "\n",
    "The document of this sample is W2 form, which is the Wage and Tax Statement document in US."
   ]
  },
  {
   "cell_type": "code",
   "execution_count": 2,
   "metadata": {},
   "outputs": [],
   "source": [
    "#intialize the connection to Amazon Textract\n",
    "textract = boto3.client('textract')\n",
    "\n",
    "#select the document \n",
    "document = 'w2example.jpg'\n"
   ]
  },
  {
   "cell_type": "code",
   "execution_count": 3,
   "metadata": {},
   "outputs": [],
   "source": [
    "#Send the Document to the Detect Text API \n",
    "with open(document, 'rb') as document:\n",
    "    imageBytes = bytearray(document.read())\n",
    "\n",
    "textract_response = textract.detect_document_text(Document={'Bytes': imageBytes})"
   ]
  },
  {
   "cell_type": "code",
   "execution_count": 4,
   "metadata": {},
   "outputs": [
    {
     "data": {
      "text/plain": [
       "[\"Line: a Employee's social security number--99.8873519897461\",\n",
       " 'Word: a--99.88846588134766',\n",
       " \"Word: Employee's--99.92671966552734\",\n",
       " 'Word: social--99.68712615966797',\n",
       " 'Word: security--99.95610046386719',\n",
       " 'Word: number--99.97835540771484',\n",
       " 'Line: 22222--97.93190002441406',\n",
       " 'Word: 22222--97.93190002441406',\n",
       " 'Line: 054-22-1254--99.81170654296875',\n",
       " 'Word: 054-22-1254--99.81170654296875',\n",
       " 'Line: OMB No. 1545-0008--99.65917205810547',\n",
       " 'Word: OMB--99.75211334228516',\n",
       " 'Word: No.--99.65322875976562',\n",
       " 'Word: 1545-0008--99.57217407226562',\n",
       " 'Line: b Employer identification number (EIN)--99.92436981201172']"
      ]
     },
     "execution_count": 4,
     "metadata": {},
     "output_type": "execute_result"
    }
   ],
   "source": [
    "#Print the parsed results\n",
    "doc = Document(textract_response)\n",
    "extract_info = []\n",
    "for page in doc.pages:\n",
    "    # Print lines and words\n",
    "    for line in page.lines:\n",
    "        line_extraction = \"Line: {}--{}\".format(line.text, line.confidence)\n",
    "        extract_info.append(line_extraction) \n",
    "        for word in line.words:\n",
    "            word_extraction = \"Word: {}--{}\".format(word.text, word.confidence)\n",
    "            extract_info.append(word_extraction) \n",
    "extract_info[0:15]"
   ]
  },
  {
   "cell_type": "markdown",
   "metadata": {},
   "source": [
    "<h4>(Print Sample) Line Block of the detect_document_text response</h4>\n",
    "<img src=\"w2_response_sample.png\" alt=\"w2_response_sample\" width=\"800\"/>"
   ]
  },
  {
   "cell_type": "code",
   "execution_count": null,
   "metadata": {},
   "outputs": [],
   "source": [
    "#Optional Step to see fully raw Textract Output. Please refer to Workshop guide for more details! \n",
    "#pprint.pprint(textract_response)"
   ]
  },
  {
   "cell_type": "code",
   "execution_count": 5,
   "metadata": {},
   "outputs": [
    {
     "name": "stdout",
     "output_type": "stream",
     "text": [
      "a Employee's social security number\n",
      "22222\n",
      "054-22-1254\n",
      "OMB No. 1545-0008\n",
      "b Employ\n"
     ]
    }
   ],
   "source": [
    "#Using a post-processing library to clean up output\n",
    "pretty_printed = get_lines_string(textract_json=textract_response)\n",
    "print(pretty_printed[0:80])"
   ]
  },
  {
   "cell_type": "markdown",
   "metadata": {},
   "source": [
    "<h1> Detect Text with Amazon Textract - S3 Document </h1>\n",
    "Amazon Textract performs OCR using the Detect Document Text API. This API will provide the user with an extraction of all the raw text on the input document in S3"
   ]
  },
  {
   "cell_type": "code",
   "execution_count": 6,
   "metadata": {},
   "outputs": [
    {
     "name": "stdout",
     "output_type": "stream",
     "text": [
      "a Employee's social security number\n",
      "22222\n",
      "054-22-1254\n",
      "OMB No. 1545-0008\n",
      "b Employ\n"
     ]
    }
   ],
   "source": [
    "s3BucketName = 'aim316-bucket'\n",
    "documentName = 'w2example.jpg'\n",
    "\n",
    "textract_s3_doc_response = textract.detect_document_text(\n",
    "    Document={\n",
    "        'S3Object': {\n",
    "            'Bucket': s3BucketName,\n",
    "            'Name': documentName\n",
    "        }\n",
    "    })\n",
    "\n",
    "pprinted_s3_doc_response = get_lines_string(textract_json=textract_s3_doc_response)\n",
    "print(pprinted_s3_doc_response[0:80])"
   ]
  },
  {
   "cell_type": "markdown",
   "metadata": {},
   "source": [
    "<h1> Analyze Document with Amazon Textract - Local Document (Forms) </h1>\n",
    "The Analyze Document API builds ontop of the detect_text api, but now detecting structure within a document, by finding Tables or Form (Key:Value) values within the document."
   ]
  },
  {
   "cell_type": "code",
   "execution_count": 7,
   "metadata": {},
   "outputs": [],
   "source": [
    "\n",
    "document = 'invoice.jpg'\n",
    "\n",
    "#Call the Analyze Doc API\n",
    "with open(document, \"rb\") as document:\n",
    "    response = textract.analyze_document(\n",
    "        Document={\n",
    "            'Bytes': document.read(),\n",
    "        },\n",
    "        FeatureTypes=[\"FORMS\"])\n",
    "    "
   ]
  },
  {
   "cell_type": "code",
   "execution_count": 8,
   "metadata": {},
   "outputs": [
    {
     "name": "stdout",
     "output_type": "stream",
     "text": [
      "|------------------|-------------------------------------------------------------------------|\n",
      "| Key              | Value                                                                   |\n",
      "| Invoice Number   | 0000005                                                                 |\n",
      "| Date of Issue    | 06/03/2019                                                              |\n",
      "| Due Date         | 07/03/2019                                                              |\n",
      "| Amount Due (CAD) | $5,500.00                                                               |\n",
      "| Billed To        | Aden Matchett Vandelay Group 123 Main Street Townsville, Ontario M4L2DY |\n",
      "| Amount Due (CAD) | $5,500.00                                                               |\n",
      "| Subtotal         | 5,500.00                                                                |\n",
      "| Total            | 5,500.00                                                                |\n",
      "| Tax              | 0.00                                                                    |\n",
      "| Amount Paid      | 0.00                                                                    |\n",
      "| Acme             | 4161234567                                                              |\n",
      "\n",
      "\n"
     ]
    }
   ],
   "source": [
    "#post-process the results\n",
    "print(get_string(textract_json=response,\n",
    "               output_type=[Textract_Pretty_Print.FORMS]))"
   ]
  },
  {
   "cell_type": "markdown",
   "metadata": {},
   "source": [
    "<h1> Analyze Document with Amazon Textract - Local Document (Tables) </h1>\n",
    "\n",
    "The Analyze Document API builds ontop of the detect_text api, but now detecting **structure** within a document, **by finding Tables or Form (Key:Value)** values within the document."
   ]
  },
  {
   "cell_type": "code",
   "execution_count": 9,
   "metadata": {},
   "outputs": [],
   "source": [
    "document = 'invoice.jpg'\n",
    "\n",
    "#Call the Analyze Doc API\n",
    "with open(document, \"rb\") as document:\n",
    "    response = textract.analyze_document(\n",
    "        Document={\n",
    "            'Bytes': document.read(),\n",
    "        },\n",
    "        FeatureTypes=[\"TABLES\"])\n"
   ]
  },
  {
   "cell_type": "code",
   "execution_count": 10,
   "metadata": {},
   "outputs": [
    {
     "name": "stdout",
     "output_type": "stream",
     "text": [
      "|-------------|------------------|-----|------------|\n",
      "| Description | Rate             | Qty | Line Total |\n",
      "| Project     | $5,000.00        | 1   | $5,000.00  |\n",
      "| Expenses    | $500.00          | 1   | $500.00    |\n",
      "|             | Subtotal         |     | 5,500.00   |\n",
      "|             | Tax              |     | 0.00       |\n",
      "|             | Total            |     | 5,500.00   |\n",
      "|             | Amount Paid      |     | 0.00       |\n",
      "|             | Amount Due (CAD) |     | $5,500.00  |\n",
      "\n",
      "\n"
     ]
    }
   ],
   "source": [
    "#post-process the results\n",
    "print(get_string(textract_json=response,\n",
    "               output_type=[Textract_Pretty_Print.TABLES]))"
   ]
  },
  {
   "cell_type": "markdown",
   "metadata": {},
   "source": [
    "<h1> Analyze Expense with Amazon Textract</h1>\n",
    "The Analyze Expense API is a purpose build API designed to extract line item details in addition to key-value pairs from invoices and receipts. "
   ]
  },
  {
   "cell_type": "code",
   "execution_count": 11,
   "metadata": {},
   "outputs": [],
   "source": [
    "document = \"invoice.jpg\"\n",
    "    \n",
    "with open(document, 'rb') as document:\n",
    "    imageBytes = bytearray(document.read())\n",
    "\n",
    "response = textract.analyze_expense(Document={'Bytes': imageBytes})\n",
    "#pprint.pprint(response)"
   ]
  },
  {
   "cell_type": "markdown",
   "metadata": {},
   "source": [
    "<h4>(Print Sample) Summary field of the analyze_expense response</h4>\n",
    "<img src=\"invoice_analysis_expense_value.png\" alt=\"invoice_analysis_expense_value\" width=\"1000\"/>"
   ]
  },
  {
   "cell_type": "code",
   "execution_count": null,
   "metadata": {},
   "outputs": [],
   "source": []
  }
 ],
 "metadata": {
  "instance_type": "ml.t3.medium",
  "kernelspec": {
   "display_name": "Python 3 (Data Science)",
   "language": "python",
   "name": "python3__SAGEMAKER_INTERNAL__arn:aws:sagemaker:eu-west-1:470317259841:image/datascience-1.0"
  },
  "language_info": {
   "codemirror_mode": {
    "name": "ipython",
    "version": 3
   },
   "file_extension": ".py",
   "mimetype": "text/x-python",
   "name": "python",
   "nbconvert_exporter": "python",
   "pygments_lexer": "ipython3",
   "version": "3.7.10"
  }
 },
 "nbformat": 4,
 "nbformat_minor": 4
}
