{
 "cells": [
  {
   "cell_type": "markdown",
   "metadata": {},
   "source": [
    "<h1> <b> Comprehend Primitives and Pre-Built API's </b></h1>"
   ]
  },
  {
   "cell_type": "markdown",
   "metadata": {},
   "source": [
    " Amazon Comprehend is a natural-language processing (NLP) service that uses machine learning to uncover valuable insights and connections in text. We will explore 6 pre-trained APIs: Identifying Named Entities, Extracting Key Phrases, Identifying the Dominant Language, Determining Emotional sentiment, Determining Syntax, Detecting Detect Personally Identifiable Information (PII).\n",
    " \n",
    "- Selected kernal: Python3(Data Science)\n",
    "- IAM setting: ComprehendFullAccess"
   ]
  },
  {
   "cell_type": "code",
   "execution_count": 1,
   "metadata": {},
   "outputs": [],
   "source": [
    "import boto3\n",
    "import pprint\n",
    "import pandas as pd\n",
    "import numpy as np"
   ]
  },
  {
   "cell_type": "code",
   "execution_count": 2,
   "metadata": {},
   "outputs": [],
   "source": [
    "#intialize the comprehend client with Boto3\n",
    "comprehend = boto3.client(service_name='comprehend')"
   ]
  },
  {
   "cell_type": "code",
   "execution_count": 3,
   "metadata": {},
   "outputs": [],
   "source": [
    "#sample text we will be using with Comprehend\n",
    "sample_text = '''\n",
    "Hello Zhang Wei. Your AnyCompany Financial Services, LLC credit card account 1111-0000-1111-0000 has a minimum payment of $24.53 that is due by July 31st. \n",
    "Based on your autopay settings, we will withdraw your payment on the due date from your bank account XXXXXX1111 with the routing number XXXXX0000. \n",
    "Your latest statement was mailed to 100 Main Street, Anytown, WA 98121. \n",
    "After your payment is received, you will receive a confirmation text message at 206-555-0100. \n",
    "If you have questions about your bill, AnyCompany Customer Service is available by phone at 206-555-0199 or email at support@anycompany.com.\n",
    "'''"
   ]
  },
  {
   "cell_type": "markdown",
   "metadata": {},
   "source": [
    "\n",
    "<h1>Identifying Named Entities</h1>\n",
    "\n",
    "A named entity is a real-world object (persons, places, locations, organizations, etc.) that can be denoted with a proper name. Amazon Comprehend can extract named entities from a document or text. This can be useful, for example, for indexing, document labeling or search. For more information, see Detect Entities). The API used to extract these entities is the DetectEntities API. For each entity detected Amazon Comprehend returns both the type, for instance \"Person\" or \"Date\", as well as a confidence score which indicates how confident the model is in this detection. In your implementation you can use this confidence score to set threshold values.\n",
    "\n",
    "<h4>Important Terminologies</h4>\n",
    "<img src=\"comprehend_terminology.png\" alt=\"comprehend_terminology\" width=\"1000\"/>"
   ]
  },
  {
   "cell_type": "code",
   "execution_count": 4,
   "metadata": {},
   "outputs": [
    {
     "name": "stdout",
     "output_type": "stream",
     "text": [
      "[{'BeginOffset': 7,\n",
      "  'EndOffset': 16,\n",
      "  'Score': 0.9990997314453125,\n",
      "  'Text': 'Zhang Wei',\n",
      "  'Type': 'PERSON'},\n",
      " {'BeginOffset': 23,\n",
      "  'EndOffset': 57,\n",
      "  'Score': 0.9994251132011414,\n",
      "  'Text': 'AnyCompany Financial Services, LLC',\n",
      "  'Type': 'ORGANIZATION'},\n",
      " {'BeginOffset': 78,\n",
      "  'EndOffset': 97,\n",
      "  'Score': 0.988307774066925,\n",
      "  'Text': '1111-0000-1111-0000',\n",
      "  'Type': 'OTHER'},\n",
      " {'BeginOffset': 123,\n",
      "  'EndOffset': 129,\n",
      "  'Score': 0.998004138469696,\n",
      "  'Text': '$24.53',\n",
      "  'Type': 'QUANTITY'},\n",
      " {'BeginOffset': 145,\n",
      "  'EndOffset': 154,\n",
      "  'Score': 0.9991244077682495,\n",
      "  'Text': 'July 31st',\n",
      "  'Type': 'DATE'}]\n"
     ]
    }
   ],
   "source": [
    "#detect and print entities\n",
    "detected_entities = comprehend.detect_entities(Text=sample_text, LanguageCode='en')\n",
    "pprint.pprint(detected_entities['Entities'][0:5])"
   ]
  },
  {
   "cell_type": "markdown",
   "metadata": {},
   "source": [
    "To understand the entity detection ouput, you will see 5 elements. BeginOffset and EndOffset are the place in the document the text in relation to characters. Ex. Zhang Wei starts at character 7 and finishes at character 16. Score is the confidence of the predicition, text is the text that was classified and type is the entity that was detected.This response pattern is common across nearly all Amazon Comprehend API commands.You can build <b>Custom Entity Detection </b> and we will touch on this in a later workshop.\n",
    "\n",
    "<h4>Explain Entity Output</h4>\n",
    "<img src=\"entity_output.png\" alt=\"entity_output\" width=\"1000\"/>"
   ]
  },
  {
   "cell_type": "code",
   "execution_count": 5,
   "metadata": {},
   "outputs": [
    {
     "data": {
      "text/html": [
       "<div>\n",
       "<style scoped>\n",
       "    .dataframe tbody tr th:only-of-type {\n",
       "        vertical-align: middle;\n",
       "    }\n",
       "\n",
       "    .dataframe tbody tr th {\n",
       "        vertical-align: top;\n",
       "    }\n",
       "\n",
       "    .dataframe thead th {\n",
       "        text-align: right;\n",
       "    }\n",
       "</style>\n",
       "<table border=\"1\" class=\"dataframe\">\n",
       "  <thead>\n",
       "    <tr style=\"text-align: right;\">\n",
       "      <th></th>\n",
       "      <th>Text</th>\n",
       "      <th>Type</th>\n",
       "      <th>Score</th>\n",
       "    </tr>\n",
       "  </thead>\n",
       "  <tbody>\n",
       "    <tr>\n",
       "      <th>0</th>\n",
       "      <td>Zhang Wei</td>\n",
       "      <td>PERSON</td>\n",
       "      <td>0.999100</td>\n",
       "    </tr>\n",
       "    <tr>\n",
       "      <th>1</th>\n",
       "      <td>AnyCompany Financial Services, LLC</td>\n",
       "      <td>ORGANIZATION</td>\n",
       "      <td>0.999425</td>\n",
       "    </tr>\n",
       "    <tr>\n",
       "      <th>2</th>\n",
       "      <td>1111-0000-1111-0000</td>\n",
       "      <td>OTHER</td>\n",
       "      <td>0.988308</td>\n",
       "    </tr>\n",
       "    <tr>\n",
       "      <th>3</th>\n",
       "      <td>$24.53</td>\n",
       "      <td>QUANTITY</td>\n",
       "      <td>0.998004</td>\n",
       "    </tr>\n",
       "    <tr>\n",
       "      <th>4</th>\n",
       "      <td>July 31st</td>\n",
       "      <td>DATE</td>\n",
       "      <td>0.999124</td>\n",
       "    </tr>\n",
       "    <tr>\n",
       "      <th>5</th>\n",
       "      <td>XXXXXX1111</td>\n",
       "      <td>OTHER</td>\n",
       "      <td>0.974339</td>\n",
       "    </tr>\n",
       "    <tr>\n",
       "      <th>6</th>\n",
       "      <td>XXXXX0000</td>\n",
       "      <td>OTHER</td>\n",
       "      <td>0.971708</td>\n",
       "    </tr>\n",
       "    <tr>\n",
       "      <th>7</th>\n",
       "      <td>100 Main Street, Anytown, WA 98121</td>\n",
       "      <td>LOCATION</td>\n",
       "      <td>0.983216</td>\n",
       "    </tr>\n",
       "    <tr>\n",
       "      <th>8</th>\n",
       "      <td>206-555-0100</td>\n",
       "      <td>OTHER</td>\n",
       "      <td>0.999324</td>\n",
       "    </tr>\n",
       "    <tr>\n",
       "      <th>9</th>\n",
       "      <td>AnyCompany Customer Service</td>\n",
       "      <td>ORGANIZATION</td>\n",
       "      <td>0.784770</td>\n",
       "    </tr>\n",
       "    <tr>\n",
       "      <th>10</th>\n",
       "      <td>206-555-0199</td>\n",
       "      <td>OTHER</td>\n",
       "      <td>0.999339</td>\n",
       "    </tr>\n",
       "    <tr>\n",
       "      <th>11</th>\n",
       "      <td>support@anycompany.com</td>\n",
       "      <td>OTHER</td>\n",
       "      <td>0.995875</td>\n",
       "    </tr>\n",
       "  </tbody>\n",
       "</table>\n",
       "</div>"
      ],
      "text/plain": [
       "                                  Text          Type     Score\n",
       "0                            Zhang Wei        PERSON  0.999100\n",
       "1   AnyCompany Financial Services, LLC  ORGANIZATION  0.999425\n",
       "2                  1111-0000-1111-0000         OTHER  0.988308\n",
       "3                               $24.53      QUANTITY  0.998004\n",
       "4                            July 31st          DATE  0.999124\n",
       "5                           XXXXXX1111         OTHER  0.974339\n",
       "6                            XXXXX0000         OTHER  0.971708\n",
       "7   100 Main Street, Anytown, WA 98121      LOCATION  0.983216\n",
       "8                         206-555-0100         OTHER  0.999324\n",
       "9          AnyCompany Customer Service  ORGANIZATION  0.784770\n",
       "10                        206-555-0199         OTHER  0.999339\n",
       "11              support@anycompany.com         OTHER  0.995875"
      ]
     },
     "metadata": {},
     "output_type": "display_data"
    }
   ],
   "source": [
    "#displaying values in a more huamn readable way\n",
    "detectec_entities_df = pd.DataFrame([ [entity['Text'], entity['Type'], entity['Score']] for entity in detected_entities['Entities']],\n",
    "                columns=['Text', 'Type', 'Score'])\n",
    "display (detectec_entities_df)"
   ]
  },
  {
   "cell_type": "markdown",
   "metadata": {},
   "source": [
    "\n",
    "<h1>Detecting Key Phrases</h1>\n",
    "\n",
    "Amazon Comprehend can extract **key noun phrases** that appear in a document. For example, a document about a basketball game might return the names of the teams, the name of the venue, and the final score. This can be used, for example, for indexing or summarization. For more information, see Detect Key Phrases.\n",
    "\n",
    "The API used to extract these key phrases is the DetectKeyPhrases API.\n",
    "\n",
    "Amazon Comprehend returns the key phrases, as well as a confidence score which indicates how confident the model is in this detection. In your implementation you can use this confidence score to set threshold values.\n"
   ]
  },
  {
   "cell_type": "code",
   "execution_count": 6,
   "metadata": {},
   "outputs": [
    {
     "name": "stdout",
     "output_type": "stream",
     "text": [
      "[{'BeginOffset': 1,\n",
      "  'EndOffset': 16,\n",
      "  'Score': 0.8426344990730286,\n",
      "  'Text': 'Hello Zhang Wei'},\n",
      " {'BeginOffset': 18,\n",
      "  'EndOffset': 52,\n",
      "  'Score': 0.9881375432014465,\n",
      "  'Text': 'Your AnyCompany Financial Services'},\n",
      " {'BeginOffset': 54,\n",
      "  'EndOffset': 97,\n",
      "  'Score': 0.8444651961326599,\n",
      "  'Text': 'LLC credit card account 1111-0000-1111-0000'}]\n"
     ]
    }
   ],
   "source": [
    "#Call detect key phrases API\n",
    "detected_key_phrases = comprehend.detect_key_phrases(Text=sample_text, LanguageCode='en')\n",
    "pprint.pprint(detected_key_phrases['KeyPhrases'][0:3])"
   ]
  },
  {
   "cell_type": "code",
   "execution_count": 7,
   "metadata": {},
   "outputs": [
    {
     "data": {
      "text/html": [
       "<div>\n",
       "<style scoped>\n",
       "    .dataframe tbody tr th:only-of-type {\n",
       "        vertical-align: middle;\n",
       "    }\n",
       "\n",
       "    .dataframe tbody tr th {\n",
       "        vertical-align: top;\n",
       "    }\n",
       "\n",
       "    .dataframe thead th {\n",
       "        text-align: right;\n",
       "    }\n",
       "</style>\n",
       "<table border=\"1\" class=\"dataframe\">\n",
       "  <thead>\n",
       "    <tr style=\"text-align: right;\">\n",
       "      <th></th>\n",
       "      <th>Text</th>\n",
       "      <th>Score</th>\n",
       "    </tr>\n",
       "  </thead>\n",
       "  <tbody>\n",
       "    <tr>\n",
       "      <th>0</th>\n",
       "      <td>Hello Zhang Wei</td>\n",
       "      <td>0.842634</td>\n",
       "    </tr>\n",
       "    <tr>\n",
       "      <th>1</th>\n",
       "      <td>Your AnyCompany Financial Services</td>\n",
       "      <td>0.988138</td>\n",
       "    </tr>\n",
       "    <tr>\n",
       "      <th>2</th>\n",
       "      <td>LLC credit card account 1111-0000-1111-0000</td>\n",
       "      <td>0.844465</td>\n",
       "    </tr>\n",
       "    <tr>\n",
       "      <th>3</th>\n",
       "      <td>a minimum payment</td>\n",
       "      <td>0.999948</td>\n",
       "    </tr>\n",
       "    <tr>\n",
       "      <th>4</th>\n",
       "      <td>$24.53</td>\n",
       "      <td>0.999779</td>\n",
       "    </tr>\n",
       "    <tr>\n",
       "      <th>5</th>\n",
       "      <td>July 31st</td>\n",
       "      <td>0.999465</td>\n",
       "    </tr>\n",
       "    <tr>\n",
       "      <th>6</th>\n",
       "      <td>your autopay settings</td>\n",
       "      <td>0.999296</td>\n",
       "    </tr>\n",
       "    <tr>\n",
       "      <th>7</th>\n",
       "      <td>your payment</td>\n",
       "      <td>0.999452</td>\n",
       "    </tr>\n",
       "    <tr>\n",
       "      <th>8</th>\n",
       "      <td>the due date</td>\n",
       "      <td>0.999488</td>\n",
       "    </tr>\n",
       "    <tr>\n",
       "      <th>9</th>\n",
       "      <td>your bank account XXXXXX1111</td>\n",
       "      <td>0.984577</td>\n",
       "    </tr>\n",
       "    <tr>\n",
       "      <th>10</th>\n",
       "      <td>the routing number XXXXX0000</td>\n",
       "      <td>0.918013</td>\n",
       "    </tr>\n",
       "    <tr>\n",
       "      <th>11</th>\n",
       "      <td>Your latest statement</td>\n",
       "      <td>0.999395</td>\n",
       "    </tr>\n",
       "    <tr>\n",
       "      <th>12</th>\n",
       "      <td>100 Main Street</td>\n",
       "      <td>0.942852</td>\n",
       "    </tr>\n",
       "    <tr>\n",
       "      <th>13</th>\n",
       "      <td>Anytown, WA 98121</td>\n",
       "      <td>0.770195</td>\n",
       "    </tr>\n",
       "    <tr>\n",
       "      <th>14</th>\n",
       "      <td>your payment</td>\n",
       "      <td>0.999954</td>\n",
       "    </tr>\n",
       "    <tr>\n",
       "      <th>15</th>\n",
       "      <td>a confirmation text message</td>\n",
       "      <td>0.999825</td>\n",
       "    </tr>\n",
       "    <tr>\n",
       "      <th>16</th>\n",
       "      <td>206-555-0100</td>\n",
       "      <td>0.999047</td>\n",
       "    </tr>\n",
       "    <tr>\n",
       "      <th>17</th>\n",
       "      <td>questions</td>\n",
       "      <td>0.997744</td>\n",
       "    </tr>\n",
       "    <tr>\n",
       "      <th>18</th>\n",
       "      <td>your bill</td>\n",
       "      <td>0.999925</td>\n",
       "    </tr>\n",
       "    <tr>\n",
       "      <th>19</th>\n",
       "      <td>AnyCompany Customer Service</td>\n",
       "      <td>0.999710</td>\n",
       "    </tr>\n",
       "    <tr>\n",
       "      <th>20</th>\n",
       "      <td>phone</td>\n",
       "      <td>0.998434</td>\n",
       "    </tr>\n",
       "    <tr>\n",
       "      <th>21</th>\n",
       "      <td>206-555-0199</td>\n",
       "      <td>0.997176</td>\n",
       "    </tr>\n",
       "    <tr>\n",
       "      <th>22</th>\n",
       "      <td>support@anycompany.com</td>\n",
       "      <td>0.933917</td>\n",
       "    </tr>\n",
       "  </tbody>\n",
       "</table>\n",
       "</div>"
      ],
      "text/plain": [
       "                                           Text     Score\n",
       "0                               Hello Zhang Wei  0.842634\n",
       "1            Your AnyCompany Financial Services  0.988138\n",
       "2   LLC credit card account 1111-0000-1111-0000  0.844465\n",
       "3                             a minimum payment  0.999948\n",
       "4                                        $24.53  0.999779\n",
       "5                                     July 31st  0.999465\n",
       "6                         your autopay settings  0.999296\n",
       "7                                  your payment  0.999452\n",
       "8                                  the due date  0.999488\n",
       "9                  your bank account XXXXXX1111  0.984577\n",
       "10                 the routing number XXXXX0000  0.918013\n",
       "11                        Your latest statement  0.999395\n",
       "12                              100 Main Street  0.942852\n",
       "13                            Anytown, WA 98121  0.770195\n",
       "14                                 your payment  0.999954\n",
       "15                  a confirmation text message  0.999825\n",
       "16                                 206-555-0100  0.999047\n",
       "17                                    questions  0.997744\n",
       "18                                    your bill  0.999925\n",
       "19                  AnyCompany Customer Service  0.999710\n",
       "20                                        phone  0.998434\n",
       "21                                 206-555-0199  0.997176\n",
       "22                       support@anycompany.com  0.933917"
      ]
     },
     "metadata": {},
     "output_type": "display_data"
    }
   ],
   "source": [
    "#displaying values in a more huamn readable way\n",
    "detected_key_phrases_df = pd.DataFrame([ [entity['Text'], entity['Score']] for entity in detected_key_phrases['KeyPhrases']],\n",
    "                columns=['Text', 'Score'])\n",
    "display(detected_key_phrases_df)"
   ]
  },
  {
   "cell_type": "markdown",
   "metadata": {},
   "source": [
    "\n",
    "<h1>Identifying the Dominant Language</h1>\n",
    "\n",
    "Amazon Comprehend identifies the dominant language in a document. Amazon Comprehend can currently identify many languages. This can be useful as a first step before further processing, for example when phone call transcripts can be in different languages. For more information, including which languages can be identified, see Detect the Dominant Language.\n",
    "\n",
    "The API used to identify the dominant language is the DetectDominantLanguage API.\n",
    "\n",
    "Amazon Comprehend returns the dominant language, as well as a confidence score which indicates how confident the model is in this detection. In your implementation you can use this confidence score to set threshold values. If more than one language is detected, it will return each detected language and its corresponding confidence score.\n"
   ]
  },
  {
   "cell_type": "code",
   "execution_count": 8,
   "metadata": {},
   "outputs": [
    {
     "name": "stdout",
     "output_type": "stream",
     "text": [
      "{'Languages': [{'LanguageCode': 'en', 'Score': 0.9913273453712463}],\n",
      " 'ResponseMetadata': {'HTTPHeaders': {'content-length': '64',\n",
      "                                      'content-type': 'application/x-amz-json-1.1',\n",
      "                                      'date': 'Fri, 21 Jan 2022 14:49:41 GMT',\n",
      "                                      'x-amzn-requestid': 'f42bec22-430c-4a8d-91aa-5b625784f608'},\n",
      "                      'HTTPStatusCode': 200,\n",
      "                      'RequestId': 'f42bec22-430c-4a8d-91aa-5b625784f608',\n",
      "                      'RetryAttempts': 0}}\n"
     ]
    }
   ],
   "source": [
    "#Calling the detect lanaguage \n",
    "detected_language = comprehend.detect_dominant_language(Text=sample_text)\n",
    "pprint.pprint(detected_language)"
   ]
  },
  {
   "cell_type": "code",
   "execution_count": 9,
   "metadata": {},
   "outputs": [
    {
     "data": {
      "text/html": [
       "<div>\n",
       "<style scoped>\n",
       "    .dataframe tbody tr th:only-of-type {\n",
       "        vertical-align: middle;\n",
       "    }\n",
       "\n",
       "    .dataframe tbody tr th {\n",
       "        vertical-align: top;\n",
       "    }\n",
       "\n",
       "    .dataframe thead th {\n",
       "        text-align: right;\n",
       "    }\n",
       "</style>\n",
       "<table border=\"1\" class=\"dataframe\">\n",
       "  <thead>\n",
       "    <tr style=\"text-align: right;\">\n",
       "      <th></th>\n",
       "      <th>Language Code</th>\n",
       "      <th>Score</th>\n",
       "    </tr>\n",
       "  </thead>\n",
       "  <tbody>\n",
       "    <tr>\n",
       "      <th>0</th>\n",
       "      <td>en</td>\n",
       "      <td>0.991327</td>\n",
       "    </tr>\n",
       "  </tbody>\n",
       "</table>\n",
       "</div>"
      ],
      "text/plain": [
       "  Language Code     Score\n",
       "0            en  0.991327"
      ]
     },
     "metadata": {},
     "output_type": "display_data"
    }
   ],
   "source": [
    "#Making it more human readable\n",
    "detected_language_df = pd.DataFrame([ [code['LanguageCode'], code['Score']] for code in detected_language['Languages']],\n",
    "                columns=['Language Code', 'Score'])\n",
    "display (detected_language_df)"
   ]
  },
  {
   "cell_type": "markdown",
   "metadata": {},
   "source": [
    "<h1>Determining Emotional Sentiment</h1>\n",
    "\n",
    "Amazon Comprehend determines the emotional sentiment of a document. Sentiment can be positive, neutral, negative, or mixed. For more information, see Determine Sentiment. This can be useful for example to analyze the content of reviews or transcripts from call centres. For more information, see Detecting Sentiment.\n",
    "\n",
    "The API used to extract the emotional sentiment is the DetectSentiment API.\n",
    "\n",
    "Amazon Comprehend returns the different sentiments and the related confidence score for each of them, which indicates how confident the model is in this detection. The sentiment with the highest confidence score can be seen as the predominant sentiment in the text.\n"
   ]
  },
  {
   "cell_type": "code",
   "execution_count": 10,
   "metadata": {},
   "outputs": [
    {
     "name": "stdout",
     "output_type": "stream",
     "text": [
      "{'ResponseMetadata': {'HTTPHeaders': {'content-length': '163',\n",
      "                                      'content-type': 'application/x-amz-json-1.1',\n",
      "                                      'date': 'Fri, 21 Jan 2022 14:50:10 GMT',\n",
      "                                      'x-amzn-requestid': 'dc2df383-7f85-4e05-9f15-cb84db63910f'},\n",
      "                      'HTTPStatusCode': 200,\n",
      "                      'RequestId': 'dc2df383-7f85-4e05-9f15-cb84db63910f',\n",
      "                      'RetryAttempts': 0},\n",
      " 'Sentiment': 'NEUTRAL',\n",
      " 'SentimentScore': {'Mixed': 9.69591928878799e-06,\n",
      "                    'Negative': 0.016147520393133163,\n",
      "                    'Neutral': 0.9832557439804077,\n",
      "                    'Positive': 0.0005869901506230235}}\n"
     ]
    }
   ],
   "source": [
    "#calling detect_sentiment \n",
    "detected_sentiment = comprehend.detect_sentiment(Text=sample_text, LanguageCode='en')\n",
    "pprint.pprint(detected_sentiment)"
   ]
  },
  {
   "cell_type": "code",
   "execution_count": 11,
   "metadata": {},
   "outputs": [
    {
     "data": {
      "text/html": [
       "<div>\n",
       "<style scoped>\n",
       "    .dataframe tbody tr th:only-of-type {\n",
       "        vertical-align: middle;\n",
       "    }\n",
       "\n",
       "    .dataframe tbody tr th {\n",
       "        vertical-align: top;\n",
       "    }\n",
       "\n",
       "    .dataframe thead th {\n",
       "        text-align: right;\n",
       "    }\n",
       "</style>\n",
       "<table border=\"1\" class=\"dataframe\">\n",
       "  <thead>\n",
       "    <tr style=\"text-align: right;\">\n",
       "      <th></th>\n",
       "      <th>Language Code</th>\n",
       "      <th>Score</th>\n",
       "    </tr>\n",
       "  </thead>\n",
       "  <tbody>\n",
       "    <tr>\n",
       "      <th>0</th>\n",
       "      <td>Positive</td>\n",
       "      <td>0.000587</td>\n",
       "    </tr>\n",
       "    <tr>\n",
       "      <th>1</th>\n",
       "      <td>Negative</td>\n",
       "      <td>0.016148</td>\n",
       "    </tr>\n",
       "    <tr>\n",
       "      <th>2</th>\n",
       "      <td>Neutral</td>\n",
       "      <td>0.983256</td>\n",
       "    </tr>\n",
       "    <tr>\n",
       "      <th>3</th>\n",
       "      <td>Mixed</td>\n",
       "      <td>0.000010</td>\n",
       "    </tr>\n",
       "  </tbody>\n",
       "</table>\n",
       "</div>"
      ],
      "text/plain": [
       "  Language Code     Score\n",
       "0      Positive  0.000587\n",
       "1      Negative  0.016148\n",
       "2       Neutral  0.983256\n",
       "3         Mixed  0.000010"
      ]
     },
     "metadata": {},
     "output_type": "display_data"
    },
    {
     "data": {
      "text/plain": [
       "'NEUTRAL'"
      ]
     },
     "metadata": {},
     "output_type": "display_data"
    }
   ],
   "source": [
    "#Finding predmoninant sentiment and making it more human readable\n",
    "predominant_sentiment = detected_sentiment['Sentiment']\n",
    "detected_sentiments_df = pd.DataFrame([ [sentiment, detected_sentiment['SentimentScore'][sentiment]] for sentiment in detected_sentiment['SentimentScore']],\n",
    "                columns=['Language Code', 'Score'])\n",
    "#Sentiment across Document\n",
    "display(detected_sentiments_df)\n",
    "#Predominant Senitment\n",
    "display(predominant_sentiment)"
   ]
  },
  {
   "cell_type": "markdown",
   "metadata": {},
   "source": [
    "\n",
    "<h1>Detecting Personally Identifiable Information (PII)</h1>\n",
    "\n",
    "Amazon Comprehend analyzes documents to detect personal data that could be used to identify an individual, such as an address, bank account number, or phone number. This can be usefull, for example, for information extraction and indexing, and to comply with legal requirements around data protection. For more information, see Detect Personally Identifiable Information (PII).\n",
    "\n",
    "Amazon Comprehend can help you identify the location of individual PII in your document or help you label documents that contain PII.\n",
    "Identify the location of PII in your text documents\n",
    "\n",
    "Amazon Comprehend can help you identify the location of individual PII in your document. Select \"Offsets\" in the Personally identifiable information (PII) analysis mode.\n",
    "\n",
    "The API used to identify the location of individual PII is the DetectPiiEntities API.\n",
    "\n",
    "Amazon Comprehend returns the different PII and the related confidence score for each of them, which indicates how confident the model is in this detection.\n"
   ]
  },
  {
   "cell_type": "code",
   "execution_count": 12,
   "metadata": {},
   "outputs": [
    {
     "name": "stdout",
     "output_type": "stream",
     "text": [
      "{'Entities': [{'BeginOffset': 7,\n",
      "               'EndOffset': 16,\n",
      "               'Score': 0.9999306797981262,\n",
      "               'Type': 'NAME'},\n",
      "              {'BeginOffset': 78,\n",
      "               'EndOffset': 97,\n",
      "               'Score': 0.999817430973053,\n",
      "               'Type': 'BANK_ACCOUNT_NUMBER'},\n",
      "              {'BeginOffset': 145,\n",
      "               'EndOffset': 154,\n",
      "               'Score': 0.9995546340942383,\n",
      "               'Type': 'DATE_TIME'},\n",
      "              {'BeginOffset': 258,\n",
      "               'EndOffset': 268,\n",
      "               'Score': 0.9999951124191284,\n",
      "               'Type': 'BANK_ACCOUNT_NUMBER'},\n",
      "              {'BeginOffset': 293,\n",
      "               'EndOffset': 302,\n",
      "               'Score': 0.9995330572128296,\n",
      "               'Type': 'BANK_ROUTING'},\n",
      "              {'BeginOffset': 341,\n",
      "               'EndOffset': 375,\n",
      "               'Score': 0.9999313354492188,\n",
      "               'Type': 'ADDRESS'},\n",
      "              {'BeginOffset': 458,\n",
      "               'EndOffset': 470,\n",
      "               'Score': 0.9999167919158936,\n",
      "               'Type': 'PHONE'},\n",
      "              {'BeginOffset': 565,\n",
      "               'EndOffset': 577,\n",
      "               'Score': 0.9999585151672363,\n",
      "               'Type': 'PHONE'},\n",
      "              {'BeginOffset': 590,\n",
      "               'EndOffset': 612,\n",
      "               'Score': 0.9995558857917786,\n",
      "               'Type': 'EMAIL'}],\n",
      " 'ResponseMetadata': {'HTTPHeaders': {'content-length': '750',\n",
      "                                      'content-type': 'application/x-amz-json-1.1',\n",
      "                                      'date': 'Fri, 21 Jan 2022 14:51:03 GMT',\n",
      "                                      'x-amzn-requestid': 'b45649fb-bb36-4cf7-8fc5-d269582f35dd'},\n",
      "                      'HTTPStatusCode': 200,\n",
      "                      'RequestId': 'b45649fb-bb36-4cf7-8fc5-d269582f35dd',\n",
      "                      'RetryAttempts': 0}}\n"
     ]
    }
   ],
   "source": [
    "#Calling the Detect PII API\n",
    "detected_pii_entities = comprehend.detect_pii_entities(Text=sample_text, LanguageCode='en')\n",
    "pprint.pprint(detected_pii_entities)"
   ]
  },
  {
   "cell_type": "code",
   "execution_count": 13,
   "metadata": {},
   "outputs": [
    {
     "data": {
      "text/html": [
       "<div>\n",
       "<style scoped>\n",
       "    .dataframe tbody tr th:only-of-type {\n",
       "        vertical-align: middle;\n",
       "    }\n",
       "\n",
       "    .dataframe tbody tr th {\n",
       "        vertical-align: top;\n",
       "    }\n",
       "\n",
       "    .dataframe thead th {\n",
       "        text-align: right;\n",
       "    }\n",
       "</style>\n",
       "<table border=\"1\" class=\"dataframe\">\n",
       "  <thead>\n",
       "    <tr style=\"text-align: right;\">\n",
       "      <th></th>\n",
       "      <th>Type</th>\n",
       "      <th>Score</th>\n",
       "    </tr>\n",
       "  </thead>\n",
       "  <tbody>\n",
       "    <tr>\n",
       "      <th>0</th>\n",
       "      <td>NAME</td>\n",
       "      <td>0.999931</td>\n",
       "    </tr>\n",
       "    <tr>\n",
       "      <th>1</th>\n",
       "      <td>BANK_ACCOUNT_NUMBER</td>\n",
       "      <td>0.999817</td>\n",
       "    </tr>\n",
       "    <tr>\n",
       "      <th>2</th>\n",
       "      <td>DATE_TIME</td>\n",
       "      <td>0.999555</td>\n",
       "    </tr>\n",
       "    <tr>\n",
       "      <th>3</th>\n",
       "      <td>BANK_ACCOUNT_NUMBER</td>\n",
       "      <td>0.999995</td>\n",
       "    </tr>\n",
       "    <tr>\n",
       "      <th>4</th>\n",
       "      <td>BANK_ROUTING</td>\n",
       "      <td>0.999533</td>\n",
       "    </tr>\n",
       "    <tr>\n",
       "      <th>5</th>\n",
       "      <td>ADDRESS</td>\n",
       "      <td>0.999931</td>\n",
       "    </tr>\n",
       "    <tr>\n",
       "      <th>6</th>\n",
       "      <td>PHONE</td>\n",
       "      <td>0.999917</td>\n",
       "    </tr>\n",
       "    <tr>\n",
       "      <th>7</th>\n",
       "      <td>PHONE</td>\n",
       "      <td>0.999959</td>\n",
       "    </tr>\n",
       "    <tr>\n",
       "      <th>8</th>\n",
       "      <td>EMAIL</td>\n",
       "      <td>0.999556</td>\n",
       "    </tr>\n",
       "  </tbody>\n",
       "</table>\n",
       "</div>"
      ],
      "text/plain": [
       "                  Type     Score\n",
       "0                 NAME  0.999931\n",
       "1  BANK_ACCOUNT_NUMBER  0.999817\n",
       "2            DATE_TIME  0.999555\n",
       "3  BANK_ACCOUNT_NUMBER  0.999995\n",
       "4         BANK_ROUTING  0.999533\n",
       "5              ADDRESS  0.999931\n",
       "6                PHONE  0.999917\n",
       "7                PHONE  0.999959\n",
       "8                EMAIL  0.999556"
      ]
     },
     "metadata": {},
     "output_type": "display_data"
    }
   ],
   "source": [
    "#Make more human readable\n",
    "detected_pii_entities_df = pd.DataFrame([ [entity['Type'], entity['Score']] for entity in detected_pii_entities['Entities']],\n",
    "                columns=['Type', 'Score'])\n",
    "display (detected_pii_entities_df)\n"
   ]
  },
  {
   "cell_type": "markdown",
   "metadata": {},
   "source": [
    "\n",
    "<h2>Label text documents with PII</h2>\n",
    "\n",
    "Amazon Comprehend can help you label documents that contain PII. Select \"Labels\" in the Personally identifiable information (PII) analysis mode.\n",
    "\n",
    "The API used to extract the PII enties in the document. We used the ContainsPiiEntities API.\n",
    "\n",
    "Amazon Comprehend returns the different PII labels and the related confidence score for each of them, which indicates how confident the model is in this detection. These labels indicate the presence of these types of PII in the document.\n"
   ]
  },
  {
   "cell_type": "code",
   "execution_count": 14,
   "metadata": {},
   "outputs": [
    {
     "name": "stdout",
     "output_type": "stream",
     "text": [
      "{'Labels': [{'Name': 'DATE_TIME', 'Score': 1.0},\n",
      "            {'Name': 'EMAIL', 'Score': 1.0},\n",
      "            {'Name': 'ADDRESS', 'Score': 0.8439050912857056},\n",
      "            {'Name': 'BANK_ROUTING', 'Score': 0.6791887283325195},\n",
      "            {'Name': 'PHONE', 'Score': 1.0}],\n",
      " 'ResponseMetadata': {'HTTPHeaders': {'content-length': '200',\n",
      "                                      'content-type': 'application/x-amz-json-1.1',\n",
      "                                      'date': 'Fri, 21 Jan 2022 14:51:40 GMT',\n",
      "                                      'x-amzn-requestid': '85358d24-d024-4ec8-b4d5-45b0f41f42e7'},\n",
      "                      'HTTPStatusCode': 200,\n",
      "                      'RequestId': '85358d24-d024-4ec8-b4d5-45b0f41f42e7',\n",
      "                      'RetryAttempts': 0}}\n"
     ]
    }
   ],
   "source": [
    "#Labelelling Text in a Document\n",
    "detected_pii_labels = comprehend.contains_pii_entities(Text=sample_text, LanguageCode='en')\n",
    "pprint.pprint(detected_pii_labels)"
   ]
  },
  {
   "cell_type": "code",
   "execution_count": 15,
   "metadata": {},
   "outputs": [
    {
     "data": {
      "text/html": [
       "<div>\n",
       "<style scoped>\n",
       "    .dataframe tbody tr th:only-of-type {\n",
       "        vertical-align: middle;\n",
       "    }\n",
       "\n",
       "    .dataframe tbody tr th {\n",
       "        vertical-align: top;\n",
       "    }\n",
       "\n",
       "    .dataframe thead th {\n",
       "        text-align: right;\n",
       "    }\n",
       "</style>\n",
       "<table border=\"1\" class=\"dataframe\">\n",
       "  <thead>\n",
       "    <tr style=\"text-align: right;\">\n",
       "      <th></th>\n",
       "      <th>Name</th>\n",
       "      <th>Score</th>\n",
       "    </tr>\n",
       "  </thead>\n",
       "  <tbody>\n",
       "    <tr>\n",
       "      <th>0</th>\n",
       "      <td>DATE_TIME</td>\n",
       "      <td>1.000000</td>\n",
       "    </tr>\n",
       "    <tr>\n",
       "      <th>1</th>\n",
       "      <td>EMAIL</td>\n",
       "      <td>1.000000</td>\n",
       "    </tr>\n",
       "    <tr>\n",
       "      <th>2</th>\n",
       "      <td>ADDRESS</td>\n",
       "      <td>0.843905</td>\n",
       "    </tr>\n",
       "    <tr>\n",
       "      <th>3</th>\n",
       "      <td>BANK_ROUTING</td>\n",
       "      <td>0.679189</td>\n",
       "    </tr>\n",
       "    <tr>\n",
       "      <th>4</th>\n",
       "      <td>PHONE</td>\n",
       "      <td>1.000000</td>\n",
       "    </tr>\n",
       "  </tbody>\n",
       "</table>\n",
       "</div>"
      ],
      "text/plain": [
       "           Name     Score\n",
       "0     DATE_TIME  1.000000\n",
       "1         EMAIL  1.000000\n",
       "2       ADDRESS  0.843905\n",
       "3  BANK_ROUTING  0.679189\n",
       "4         PHONE  1.000000"
      ]
     },
     "metadata": {},
     "output_type": "display_data"
    }
   ],
   "source": [
    "#Make more human readable\n",
    "detected_pii_labels_df = pd.DataFrame([ [entity['Name'], entity['Score']] for entity in detected_pii_labels['Labels']],\n",
    "                columns=['Name', 'Score'])\n",
    "display (detected_pii_labels_df)\n"
   ]
  },
  {
   "cell_type": "code",
   "execution_count": null,
   "metadata": {},
   "outputs": [],
   "source": []
  }
 ],
 "metadata": {
  "instance_type": "ml.t3.medium",
  "kernelspec": {
   "display_name": "Python 3 (Data Science)",
   "language": "python",
   "name": "python3__SAGEMAKER_INTERNAL__arn:aws:sagemaker:eu-west-1:470317259841:image/datascience-1.0"
  },
  "language_info": {
   "codemirror_mode": {
    "name": "ipython",
    "version": 3
   },
   "file_extension": ".py",
   "mimetype": "text/x-python",
   "name": "python",
   "nbconvert_exporter": "python",
   "pygments_lexer": "ipython3",
   "version": "3.7.10"
  }
 },
 "nbformat": 4,
 "nbformat_minor": 4
}
